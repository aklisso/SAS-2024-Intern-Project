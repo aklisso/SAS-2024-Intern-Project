{
 "cells": [
  {
   "cell_type": "markdown",
   "id": "3c34511e-5693-44ab-bfa6-d0843172609c",
   "metadata": {},
   "source": [
    "# Register Client and Create Access Token Notebook\n",
    "- Find detailed information about client registration and access tokens in this blog post: [Authentication to SAS Viya: a couple of approaches](https://blogs.sas.com/content/sgf/2021/09/24/authentication-to-sas-viya/)\n",
    "- Additional access token information is found at the end of this notebook.\n",
    "\n",
    "\n",
    "### Run the cells below and follow the resulting instructions."
   ]
  },
  {
   "cell_type": "markdown",
   "id": "98dcdca2",
   "metadata": {},
   "source": [
    "# Import packages and create variables"
   ]
  },
  {
   "cell_type": "code",
   "execution_count": 18,
   "id": "a48b44ae",
   "metadata": {},
   "outputs": [],
   "source": [
    "import requests\n",
    "import json\n",
    "import os\n",
    "import base64\n",
    "\n",
    "# set/create variables\n",
    "client_id=\"api.client\"     # api.client\n",
    "client_secret=\"api.secret\" # api.secret\n",
    "baseURL = \"https://sasserver.sas.com\" #replace sasserver with SAS server"
   ]
  },
  {
   "cell_type": "markdown",
   "id": "90a31447",
   "metadata": {},
   "source": [
    "# Create access token"
   ]
  },
  {
   "cell_type": "code",
   "execution_count": 19,
   "id": "791f2eac-f7c1-4c27-ac7c-27ff3f3052b7",
   "metadata": {},
   "outputs": [
    {
     "name": "stdout",
     "output_type": "stream",
     "text": [
      "* Please visit the following site https://create.demo.sas.com/SASLogon/oauth/authorize?client_id=api.client&response_type=code in an Incognito browser window\n",
      "* If provided a login prompt, add your SAS login credentials with SASAdministrator rights\n",
      "* Once authenticated, you'll be redirected to an authoriztion screen, check all of the boxes that appear\n",
      "* This will result in a short string of numbers and letters such as `VAxVFVEnKr`; this is your authorization code; copy the code\n",
      "{\n",
      "    \"access_token\": \"eyJqa3UiOiJodHRwczovL2xvY2FsaG9zdC9TQVNMb2dvbi90b2tlbl9rZXlzIiwia2lkIjoibGVnYWN5LXRva2VuLWtleSIsInR5cCI6IkpXVCIsImFsZyI6IlJTMjU2In0.eyJzdWIiOiJjYWY0N2ExYi0zNDEwLTQzZDQtYmI0My0wNjhlZDYwNzc3MDIiLCJzZXNzaW9uX3NpZyI6ImNkZDAxMjYxLTJlNzctNDkyMy1iNjRiLTIyZjU4YjY0NzkwMCIsInVzZXJfbmFtZSI6IkF2YS5LbGlzc291cmFzQHNhcy5jb20iLCJvcmlnaW4iOiJhenVyZSIsImlzcyI6Imh0dHA6Ly9sb2NhbGhvc3QvU0FTTG9nb24vb2F1dGgvdG9rZW4iLCJhdXRob3JpdGllcyI6WyJTQVNTY29yZVVzZXJzIiwiRGF0YUJ1aWxkZXJzIiwiVW5pdGVkIGluIFNURU0gSW50ZXJucy0yMDI0IiwiR2xvc3NhcnkuR2xvc3NhcnlBZG1pbmlzdHJhdG9ycyIsIkNJUyBWaXlhIEFsd2F5cyBPbiIsIkNhdGFsb2cuU3ViamVjdE1hdHRlckV4cGVydHMiLCJBcHBsaWNhdGlvbkFkbWluaXN0cmF0b3JzIiwiSUNVcyIsIk1pZ3JhdGlvbkFkbWlucyIsIkVzcmlVc2VycyIsIkNBU0hvc3RBY2NvdW50UmVxdWlyZWQiXSwiY2xpZW50X2lkIjoiYXBpLmNsaWVudCIsImF1ZCI6WyJvcGVuaWQiLCJhcGkuY2xpZW50Il0sImV4dF9pZCI6IkVTTzYwVUdKNVVkaDgzX1hObmI1bnBQTmc0WVlDMDFkNnJvZlFWR2lOM0EiLCJyZW1vdGVfaXAiOiIxNDkuMTczLjguMTYiLCJ6aWQiOiJ1YWEiLCJncmFudF90eXBlIjoiYXV0aG9yaXphdGlvbl9jb2RlIiwidXNlcl9pZCI6ImNhZjQ3YTFiLTM0MTAtNDNkNC1iYjQzLTA2OGVkNjA3NzcwMiIsImF6cCI6ImFwaS5jbGllbnQiLCJzY29wZSI6WyJvcGVuaWQiXSwiYXV0aF90aW1lIjoxNzIwMDI3MDY0LCJleHAiOjMwMTYwMjcwNjQsImlhdCI6MTcyMDAyNzA2NCwianRpIjoiMTZhZWJjYzU1ZGZiNDBmMjg5NjRlMjA2YWE5YWUxNTMiLCJlbWFpbCI6IkF2YS5LbGlzc291cmFzQHNhcy5jb20iLCJyZXZfc2lnIjoiZWI3ZDRhN2IiLCJjaWQiOiJhcGkuY2xpZW50In0.a6oLyXo3AhZ-WX0_ND4b29JIRJHMIxkYnajhdtULvtwe9aKUaz_1gHeBpmCqspMygVgWlf6_NwHwOXC636guBMbhylNcvQtKTeYNmDP0zQtQvoz9I4qd0NoUuNjyH4U-pVekjsHPIM-AGK3rzyVihuBD2ZzvnsZBLNi9_T4mHjhAGG6F7EfzCcsPdzOieAbU7d705EqHUPBrD4GU1zeEtxqntNNElMRqUkc6CQLXIRQFGudyAEV_Te9CPinqVQBW9A92JY0o_RsQzX7GoCnzZz_Y7_52UTRXlxew1ztDozNNlez5m-KI4mKhSuBCIqJm7am1AgznAxNQLNu3mn7ISA\",\n",
      "    \"expires_in\": 1295999999,\n",
      "    \"id_token\": \"eyJqa3UiOiJodHRwczovL2xvY2FsaG9zdC9TQVNMb2dvbi90b2tlbl9rZXlzIiwia2lkIjoibGVnYWN5LXRva2VuLWtleSIsInR5cCI6IkpXVCIsImFsZyI6IlJTMjU2In0.eyJzdWIiOiJjYWY0N2ExYi0zNDEwLTQzZDQtYmI0My0wNjhlZDYwNzc3MDIiLCJwcmV2aW91c19sb2dvbl90aW1lIjoxNzIwMDE5MzMxMTY1LCJlbWFpbF92ZXJpZmllZCI6ZmFsc2UsInVzZXJfbmFtZSI6IkF2YS5LbGlzc291cmFzQHNhcy5jb20iLCJvcmlnaW4iOiJhenVyZSIsImlzcyI6Imh0dHA6Ly9sb2NhbGhvc3QvU0FTTG9nb24vb2F1dGgvdG9rZW4iLCJjbGllbnRfaWQiOiJhcGkuY2xpZW50IiwiYXVkIjoiYXBpLmNsaWVudCIsInppZCI6InVhYSIsImdyYW50X3R5cGUiOiJhdXRob3JpemF0aW9uX2NvZGUiLCJ1c2VyX2lkIjoiY2FmNDdhMWItMzQxMC00M2Q0LWJiNDMtMDY4ZWQ2MDc3NzAyIiwiYXpwIjoiYXBpLmNsaWVudCIsInNjb3BlIjpbIm9wZW5pZCJdLCJhdXRoX3RpbWUiOjE3MjAwMjcwNjQsImV4cCI6MzAxNjAyNzA2NCwiaWF0IjoxNzIwMDI3MDY0LCJlbWFpbCI6IkF2YS5LbGlzc291cmFzQHNhcy5jb20iLCJqdGkiOiIxNmFlYmNjNTVkZmI0MGYyODk2NGUyMDZhYTlhZTE1MyIsInJldl9zaWciOiJlYjdkNGE3YiIsImNpZCI6ImFwaS5jbGllbnQifQ.tJSjD4-D1-eocvqYxlJ0ho0vykoqy4jFrnz80dl0i0mEqVZlVWb4utzxO3f0XXpN_gU1sdCsR7QTBYtQvb8xCs6byVsbq8QP75J0t5ld-sTmFMLm8zWKk6HErClL2M-H7esmfkrqT2J0HJbZUkTNZ_d6lOz1VUQQ7DUA5c-_ZMc9wedlNN20-wR0tv43j9YUeCsIsfYaUEFvO51U9k5LSjfqSVaAw_i_yOG6yk6mP12QWHQgls2m7ccpCQRvknjgaxrnfuL0M7v3q0pX3gagFho193_1qbiu5F3rLEVr6kqerLxhj42qKx363QGV3dRZJ9fBohDIfNKobtygMN6C3A\",\n",
      "    \"jti\": \"16aebcc55dfb40f28964e206aa9ae153\",\n",
      "    \"refresh_expires_in\": 1209599,\n",
      "    \"refresh_revocable\": false,\n",
      "    \"refresh_token\": \"eyJqa3UiOiJodHRwczovL2xvY2FsaG9zdC9TQVNMb2dvbi90b2tlbl9rZXlzIiwia2lkIjoibGVnYWN5LXRva2VuLWtleSIsInR5cCI6IkpXVCIsImFsZyI6IlJTMjU2In0.eyJzdWIiOiJjYWY0N2ExYi0zNDEwLTQzZDQtYmI0My0wNjhlZDYwNzc3MDIiLCJ1c2VyX25hbWUiOiJBdmEuS2xpc3NvdXJhc0BzYXMuY29tIiwib3JpZ2luIjoiYXp1cmUiLCJpc3MiOiJodHRwOi8vbG9jYWxob3N0L1NBU0xvZ29uL29hdXRoL3Rva2VuIiwiY2xpZW50X2lkIjoiYXBpLmNsaWVudCIsImF1dGhvcml0aWVzIjpbIlNBU1Njb3JlVXNlcnMiLCJEYXRhQnVpbGRlcnMiLCJVbml0ZWQgaW4gU1RFTSBJbnRlcm5zLTIwMjQiLCJHbG9zc2FyeS5HbG9zc2FyeUFkbWluaXN0cmF0b3JzIiwiQ0lTIFZpeWEgQWx3YXlzIE9uIiwiQ2F0YWxvZy5TdWJqZWN0TWF0dGVyRXhwZXJ0cyIsIkFwcGxpY2F0aW9uQWRtaW5pc3RyYXRvcnMiLCJJQ1VzIiwiTWlncmF0aW9uQWRtaW5zIiwiRXNyaVVzZXJzIiwiQ0FTSG9zdEFjY291bnRSZXF1aXJlZCJdLCJhdWQiOlsib3BlbmlkIiwiYXBpLmNsaWVudCJdLCJleHRfaWQiOiJFU082MFVHSjVVZGg4M19YTm5iNW5wUE5nNFlZQzAxZDZyb2ZRVkdpTjNBIiwicmVtb3RlX2lwIjoiMTQ5LjE3My44LjE2IiwiemlkIjoidWFhIiwiZ3JhbnRfdHlwZSI6ImF1dGhvcml6YXRpb25fY29kZSIsInVzZXJfaWQiOiJjYWY0N2ExYi0zNDEwLTQzZDQtYmI0My0wNjhlZDYwNzc3MDIiLCJhdXRoX3RpbWUiOjE3MjAwMjcwNjQsImdyYW50ZWRfc2NvcGVzIjpbIm9wZW5pZCJdLCJleHAiOjE3MjEyMzY2NjQsImlhdCI6MTcyMDAyNzA2NCwianRpIjoiM2U4YjQwMTg3MDJmNGZlZDk2NTdjNTA3M2IwZTkyOGQtciIsInJldl9zaWciOiJlYjdkNGE3YiIsImNpZCI6ImFwaS5jbGllbnQifQ.0zOVsyqH-to7l2Av8P8jjlfog3Co8M6qe7jq_bmZFN89ExFAXJEZW1wpp1EzUhyvYVcHpBz9OH8C9fGvuF_E8cmJa1lR6WV3uHJFL01Ie9CtCD_ashdlZoADvV8CywjqBnnPlm1bDy8iUhf4JgODXCfsw75XMqPAj9W-TP73VcYALA8hEH6F4pszFakyiF9vaNAivFNt1Cbr54ocYMP7hh0cW7GQcRq3lVETsQzk3iJGC_CWQ3Ee01cxlaMJocWsquRzNrEuhw7ql4dZ_-Lk1j-FAHiWyZ5XGkf4AJqiZ32J8StOvpHOqfIxsp-foJsZ9_gsEdvHc9Vw8tfn5piwrw\",\n",
      "    \"revocable\": false,\n",
      "    \"scope\": \"openid\",\n",
      "    \"token_type\": \"bearer\"\n",
      "}\n",
      "The access token was stored for you as c:\\Users\\avklis\\peanut_project\\final/access_token.txt\n",
      "The refresh token was stored for you as c:\\Users\\avklis\\peanut_project\\final/refresh_token.txt\n"
     ]
    },
    {
     "name": "stderr",
     "output_type": "stream",
     "text": [
      "c:\\Users\\avklis\\AppData\\Local\\Programs\\Python\\Python312\\Lib\\site-packages\\urllib3\\connectionpool.py:1099: InsecureRequestWarning: Unverified HTTPS request is being made to host 'create.demo.sas.com'. Adding certificate verification is strongly advised. See: https://urllib3.readthedocs.io/en/latest/advanced-usage.html#tls-warnings\n",
      "  warnings.warn(\n"
     ]
    }
   ],
   "source": [
    "# create authorization url\n",
    "codeURL = baseURL + \"/SASLogon/oauth/authorize?client_id=\" + client_id + \"&response_type=code\"\n",
    "\n",
    "# enccode client string\n",
    "client_string = client_id + \":\" + client_secret\n",
    "message_bytes = client_string.encode('ascii')\n",
    "base64_bytes = base64.b64encode(message_bytes)\n",
    "base64_message = base64_bytes.decode('ascii')\n",
    "\n",
    "# promt with instructions and entry for auth code\n",
    "print(f\"* Please visit the following site {codeURL} in an Incognito browser window\")\n",
    "print(\"* If provided a login prompt, add your SAS login credentials with SASAdministrator rights\")\n",
    "print(\"* Once authenticated, you'll be redirected to an authoriztion screen, check all of the boxes that appear\")\n",
    "print(\"* This will result in a short string of numbers and letters such as `VAxVFVEnKr`; this is your authorization code; copy the code\")\n",
    "code = input(\"Please enter the authoriztion code you generated through the previous instructions, and then press Enter: \")\n",
    "\n",
    "# generate API call for access token\n",
    "url = f\"{baseURL}/SASLogon/oauth/token#authorization_code\"\n",
    "payload = \"grant_type=authorization_code&code=\" + code\n",
    "headers = {\n",
    "'Accept': 'application/json',\n",
    "'Content-Type': 'application/x-www-form-urlencoded',\n",
    "'Authorization': \"Basic \" + base64_message\n",
    "}\n",
    "\n",
    "# process the results\n",
    "response = requests.request(\"POST\", url, headers=headers, data=payload, verify=False)\n",
    "access_token = json.loads(response.text)['access_token']\n",
    "refresh_token = json.loads(response.text)['refresh_token']\n",
    "print(json.dumps(response.json(), indent=4, sort_keys=True))\n",
    "\n",
    "# Create access_token.txt file \n",
    "directory = os.getcwd()\n",
    "with open(directory + '/access_token.txt', 'w') as f:\n",
    "    f.write(access_token)\n",
    "print('The access token was stored for you as ' + directory + '/access_token.txt')\n",
    "     \n",
    "# Create refresh_token.txt file \n",
    "directory = os.getcwd()\n",
    "with open(directory + '/refresh_token.txt', 'w') as f:\n",
    "    f.write(refresh_token)\n",
    "print('The refresh token was stored for you as ' + directory + '/refresh_token.txt')"
   ]
  },
  {
   "cell_type": "markdown",
   "id": "e810e3a2-b4ac-4ef1-ba84-8070f15c3054",
   "metadata": {},
   "source": [
    "## Notes on the access token\n",
    "- The access token has a 12 hour time-to-live (ttl).\n",
    "- Use the refresh token to generate a new access token.\n",
    "- The refressh token has a 90 day ttl.\n",
    "- The access_token is valid in this Notebook and is transferable to other notebooks and used for external API calls."
   ]
  },
  {
   "cell_type": "code",
   "execution_count": null,
   "id": "978b59d7",
   "metadata": {},
   "outputs": [],
   "source": []
  },
  {
   "cell_type": "markdown",
   "id": "2b08357f",
   "metadata": {},
   "source": [
    "# Use the refresh token to generate a new access token"
   ]
  },
  {
   "cell_type": "code",
   "execution_count": 1,
   "id": "03f38364",
   "metadata": {},
   "outputs": [
    {
     "ename": "NameError",
     "evalue": "name 'client_id' is not defined",
     "output_type": "error",
     "traceback": [
      "\u001b[1;31m---------------------------------------------------------------------------\u001b[0m",
      "\u001b[1;31mNameError\u001b[0m                                 Traceback (most recent call last)",
      "Cell \u001b[1;32mIn[1], line 2\u001b[0m\n\u001b[0;32m      1\u001b[0m \u001b[38;5;66;03m# enccode client string\u001b[39;00m\n\u001b[1;32m----> 2\u001b[0m client_string \u001b[38;5;241m=\u001b[39m \u001b[43mclient_id\u001b[49m \u001b[38;5;241m+\u001b[39m \u001b[38;5;124m\"\u001b[39m\u001b[38;5;124m:\u001b[39m\u001b[38;5;124m\"\u001b[39m \u001b[38;5;241m+\u001b[39m client_secret\n\u001b[0;32m      3\u001b[0m message_bytes \u001b[38;5;241m=\u001b[39m client_string\u001b[38;5;241m.\u001b[39mencode(\u001b[38;5;124m'\u001b[39m\u001b[38;5;124mascii\u001b[39m\u001b[38;5;124m'\u001b[39m)\n\u001b[0;32m      4\u001b[0m base64_bytes \u001b[38;5;241m=\u001b[39m base64\u001b[38;5;241m.\u001b[39mb64encode(message_bytes)\n",
      "\u001b[1;31mNameError\u001b[0m: name 'client_id' is not defined"
     ]
    }
   ],
   "source": [
    "# enccode client string\n",
    "client_string = client_id + \":\" + client_secret\n",
    "message_bytes = client_string.encode('ascii')\n",
    "base64_bytes = base64.b64encode(message_bytes)\n",
    "base64_message = base64_bytes.decode('ascii')\n",
    "\n",
    "# copy resfresh token from txtfile\n",
    "directory = os.getcwd()\n",
    "file = open(directory + \"/refresh_token.txt\")\n",
    "# read the file as a list\n",
    "refresh_token = file.readlines()\n",
    "# close the file\n",
    "file.close()\n",
    "print(refresh_token)\n",
    "type(refresh_token)\n",
    "\n",
    "url = f\"{baseURL}/SASLogon/oauth/token#refresh_token\"\n",
    "\n",
    "payload = \"grant_type=refresh_token&refresh_token=\" + ' '.join(refresh_token)\n",
    "headers = {\n",
    "  'Content-Type': 'application/x-www-form-urlencoded',\n",
    "  'Accept': 'application/json',\n",
    "  'Authorization': \"Basic \" + base64_message\n",
    "}\n",
    "\n",
    "response = requests.request(\"POST\", url, headers=headers, data=payload, verify=False)\n",
    "\n",
    "# print(response.text)\n",
    "# process the results\n",
    "response = requests.request(\"POST\", url, headers=headers, data=payload, verify=False)\n",
    "access_token = json.loads(response.text)['access_token']\n",
    "print(json.dumps(response.json(), indent=4, sort_keys=True))\n",
    "\n",
    "# Create access_token.txt file \n",
    "directory = os.getcwd()\n",
    "with open(directory + '/access_token.txt', 'w') as f:\n",
    "    f.write(access_token)\n",
    "print('The access token was stored for you as ' + directory + '/access_token.txt')"
   ]
  },
  {
   "cell_type": "markdown",
   "id": "d889433c",
   "metadata": {},
   "source": [
    "# Test connection to SAS Viya via SWAT"
   ]
  },
  {
   "cell_type": "code",
   "execution_count": 28,
   "id": "f4887fdb",
   "metadata": {},
   "outputs": [
    {
     "name": "stdout",
     "output_type": "stream",
     "text": [
      "c:\\Users\\avklis\\AppData\\Local\\Programs\\Python\\Python312\\Lib\\site-packages\\swat\\__init__.py\n",
      "C:/Users/avklis/peanut_project/final\n"
     ]
    },
    {
     "name": "stderr",
     "output_type": "stream",
     "text": [
      "<html>\n",
      "<head><title>404 Not Found</title></head>\n",
      "<body>\n",
      "<center><h1>404 Not Found</h1></center>\n",
      "<hr><center>nginx</center>\n",
      "</body>\n",
      "</html>\n",
      "\n"
     ]
    },
    {
     "ename": "SWATError",
     "evalue": "Expecting value: line 1 column 1 (char 0)",
     "output_type": "error",
     "traceback": [
      "\u001b[1;31m---------------------------------------------------------------------------\u001b[0m",
      "\u001b[1;31mJSONDecodeError\u001b[0m                           Traceback (most recent call last)",
      "File \u001b[1;32mc:\\Users\\avklis\\AppData\\Local\\Programs\\Python\\Python312\\Lib\\site-packages\\swat\\cas\\rest\\connection.py:332\u001b[0m, in \u001b[0;36mREST_CASConnection.__init__\u001b[1;34m(self, hostname, port, username, password, soptions, error)\u001b[0m\n\u001b[0;32m    331\u001b[0m     txt \u001b[38;5;241m=\u001b[39m a2u(res\u001b[38;5;241m.\u001b[39mtext, \u001b[38;5;124m'\u001b[39m\u001b[38;5;124mutf-8\u001b[39m\u001b[38;5;124m'\u001b[39m)\n\u001b[1;32m--> 332\u001b[0m     out \u001b[38;5;241m=\u001b[39m \u001b[43mjson\u001b[49m\u001b[38;5;241;43m.\u001b[39;49m\u001b[43mloads\u001b[49m\u001b[43m(\u001b[49m\u001b[43mtxt\u001b[49m\u001b[43m,\u001b[49m\u001b[43m \u001b[49m\u001b[43mstrict\u001b[49m\u001b[38;5;241;43m=\u001b[39;49m\u001b[38;5;28;43;01mFalse\u001b[39;49;00m\u001b[43m)\u001b[49m\n\u001b[0;32m    333\u001b[0m \u001b[38;5;28;01mexcept\u001b[39;00m \u001b[38;5;167;01mException\u001b[39;00m:\n",
      "File \u001b[1;32mc:\\Users\\avklis\\AppData\\Local\\Programs\\Python\\Python312\\Lib\\json\\__init__.py:359\u001b[0m, in \u001b[0;36mloads\u001b[1;34m(s, cls, object_hook, parse_float, parse_int, parse_constant, object_pairs_hook, **kw)\u001b[0m\n\u001b[0;32m    358\u001b[0m     kw[\u001b[38;5;124m'\u001b[39m\u001b[38;5;124mparse_constant\u001b[39m\u001b[38;5;124m'\u001b[39m] \u001b[38;5;241m=\u001b[39m parse_constant\n\u001b[1;32m--> 359\u001b[0m \u001b[38;5;28;01mreturn\u001b[39;00m \u001b[38;5;28;43mcls\u001b[39;49m\u001b[43m(\u001b[49m\u001b[38;5;241;43m*\u001b[39;49m\u001b[38;5;241;43m*\u001b[39;49m\u001b[43mkw\u001b[49m\u001b[43m)\u001b[49m\u001b[38;5;241;43m.\u001b[39;49m\u001b[43mdecode\u001b[49m\u001b[43m(\u001b[49m\u001b[43ms\u001b[49m\u001b[43m)\u001b[49m\n",
      "File \u001b[1;32mc:\\Users\\avklis\\AppData\\Local\\Programs\\Python\\Python312\\Lib\\json\\decoder.py:337\u001b[0m, in \u001b[0;36mJSONDecoder.decode\u001b[1;34m(self, s, _w)\u001b[0m\n\u001b[0;32m    333\u001b[0m \u001b[38;5;250m\u001b[39m\u001b[38;5;124;03m\"\"\"Return the Python representation of ``s`` (a ``str`` instance\u001b[39;00m\n\u001b[0;32m    334\u001b[0m \u001b[38;5;124;03mcontaining a JSON document).\u001b[39;00m\n\u001b[0;32m    335\u001b[0m \n\u001b[0;32m    336\u001b[0m \u001b[38;5;124;03m\"\"\"\u001b[39;00m\n\u001b[1;32m--> 337\u001b[0m obj, end \u001b[38;5;241m=\u001b[39m \u001b[38;5;28;43mself\u001b[39;49m\u001b[38;5;241;43m.\u001b[39;49m\u001b[43mraw_decode\u001b[49m\u001b[43m(\u001b[49m\u001b[43ms\u001b[49m\u001b[43m,\u001b[49m\u001b[43m \u001b[49m\u001b[43midx\u001b[49m\u001b[38;5;241;43m=\u001b[39;49m\u001b[43m_w\u001b[49m\u001b[43m(\u001b[49m\u001b[43ms\u001b[49m\u001b[43m,\u001b[49m\u001b[43m \u001b[49m\u001b[38;5;241;43m0\u001b[39;49m\u001b[43m)\u001b[49m\u001b[38;5;241;43m.\u001b[39;49m\u001b[43mend\u001b[49m\u001b[43m(\u001b[49m\u001b[43m)\u001b[49m\u001b[43m)\u001b[49m\n\u001b[0;32m    338\u001b[0m end \u001b[38;5;241m=\u001b[39m _w(s, end)\u001b[38;5;241m.\u001b[39mend()\n",
      "File \u001b[1;32mc:\\Users\\avklis\\AppData\\Local\\Programs\\Python\\Python312\\Lib\\json\\decoder.py:355\u001b[0m, in \u001b[0;36mJSONDecoder.raw_decode\u001b[1;34m(self, s, idx)\u001b[0m\n\u001b[0;32m    354\u001b[0m \u001b[38;5;28;01mexcept\u001b[39;00m \u001b[38;5;167;01mStopIteration\u001b[39;00m \u001b[38;5;28;01mas\u001b[39;00m err:\n\u001b[1;32m--> 355\u001b[0m     \u001b[38;5;28;01mraise\u001b[39;00m JSONDecodeError(\u001b[38;5;124m\"\u001b[39m\u001b[38;5;124mExpecting value\u001b[39m\u001b[38;5;124m\"\u001b[39m, s, err\u001b[38;5;241m.\u001b[39mvalue) \u001b[38;5;28;01mfrom\u001b[39;00m \u001b[38;5;28;01mNone\u001b[39;00m\n\u001b[0;32m    356\u001b[0m \u001b[38;5;28;01mreturn\u001b[39;00m obj, end\n",
      "\u001b[1;31mJSONDecodeError\u001b[0m: Expecting value: line 1 column 1 (char 0)",
      "\nDuring handling of the above exception, another exception occurred:\n",
      "\u001b[1;31mSWATError\u001b[0m                                 Traceback (most recent call last)",
      "Cell \u001b[1;32mIn[28], line 7\u001b[0m\n\u001b[0;32m      5\u001b[0m directory \u001b[38;5;241m=\u001b[39m \u001b[38;5;124mr\u001b[39m\u001b[38;5;124m'\u001b[39m\u001b[38;5;124mC:/Users/avklis/peanut_project/final\u001b[39m\u001b[38;5;124m'\u001b[39m\n\u001b[0;32m      6\u001b[0m \u001b[38;5;28mprint\u001b[39m(directory)\n\u001b[1;32m----> 7\u001b[0m httpconn \u001b[38;5;241m=\u001b[39m \u001b[43mswat\u001b[49m\u001b[38;5;241;43m.\u001b[39;49m\u001b[43mCAS\u001b[49m\u001b[43m(\u001b[49m\u001b[38;5;124;43m\"\u001b[39;49m\u001b[38;5;124;43mhttps://create.demo.sas.com/cas-shared-default-http\u001b[39;49m\u001b[38;5;124;43m\"\u001b[39;49m\u001b[43m,\u001b[49m\u001b[43m \u001b[49m\n\u001b[0;32m      8\u001b[0m \u001b[43m                    \u001b[49m\u001b[43musername\u001b[49m\u001b[38;5;241;43m=\u001b[39;49m\u001b[38;5;28;43;01mNone\u001b[39;49;00m\u001b[43m,\u001b[49m\u001b[43m \u001b[49m\n\u001b[0;32m      9\u001b[0m \u001b[43m                    \u001b[49m\u001b[43mpassword\u001b[49m\u001b[38;5;241;43m=\u001b[39;49m\u001b[43maccess_token\u001b[49m\u001b[43m,\u001b[49m\u001b[43m \u001b[49m\n\u001b[0;32m     10\u001b[0m \u001b[43m                    \u001b[49m\u001b[43mssl_ca_list\u001b[49m\u001b[38;5;241;43m=\u001b[39;49m\u001b[43mdirectory\u001b[49m\u001b[38;5;241;43m+\u001b[39;49m\u001b[38;5;124;43m'\u001b[39;49m\u001b[38;5;124;43m/ssemonthly-rootCA-Intermidiates_4CLI.pem\u001b[39;49m\u001b[38;5;124;43m'\u001b[39;49m\u001b[43m,\u001b[49m\n\u001b[0;32m     11\u001b[0m \u001b[43m                    \u001b[49m\u001b[43mprotocol\u001b[49m\u001b[38;5;241;43m=\u001b[39;49m\u001b[38;5;124;43m\"\u001b[39;49m\u001b[38;5;124;43mhttps\u001b[39;49m\u001b[38;5;124;43m\"\u001b[39;49m\u001b[43m)\u001b[49m\n\u001b[0;32m     12\u001b[0m httpconn\n\u001b[0;32m     14\u001b[0m \u001b[38;5;66;03m#Binary (doesn't work)\u001b[39;00m\n\u001b[0;32m     15\u001b[0m \u001b[38;5;66;03m# import swat\u001b[39;00m\n\u001b[0;32m     16\u001b[0m \u001b[38;5;66;03m# binconn = swat.CAS(\"20.81.59.109\", protocol=\"cas\", username=None, password=access_token)\u001b[39;00m\n",
      "File \u001b[1;32mc:\\Users\\avklis\\AppData\\Local\\Programs\\Python\\Python312\\Lib\\site-packages\\swat\\cas\\connection.py:301\u001b[0m, in \u001b[0;36mCAS.__init__\u001b[1;34m(self, hostname, port, username, password, session, locale, nworkers, name, authinfo, protocol, **kwargs)\u001b[0m\n\u001b[0;32m    298\u001b[0m params \u001b[38;5;241m=\u001b[39m (hostname, \u001b[38;5;28mint\u001b[39m(port), a2n(username), a2n(password),\n\u001b[0;32m    299\u001b[0m           a2n(soptions), \u001b[38;5;28mself\u001b[39m\u001b[38;5;241m.\u001b[39m_sw_error)\n\u001b[0;32m    300\u001b[0m \u001b[38;5;28;01mif\u001b[39;00m protocol \u001b[38;5;129;01min\u001b[39;00m [\u001b[38;5;124m'\u001b[39m\u001b[38;5;124mhttp\u001b[39m\u001b[38;5;124m'\u001b[39m, \u001b[38;5;124m'\u001b[39m\u001b[38;5;124mhttps\u001b[39m\u001b[38;5;124m'\u001b[39m]:\n\u001b[1;32m--> 301\u001b[0m     \u001b[38;5;28mself\u001b[39m\u001b[38;5;241m.\u001b[39m_sw_connection \u001b[38;5;241m=\u001b[39m \u001b[43mrest\u001b[49m\u001b[38;5;241;43m.\u001b[39;49m\u001b[43mREST_CASConnection\u001b[49m\u001b[43m(\u001b[49m\u001b[38;5;241;43m*\u001b[39;49m\u001b[43mparams\u001b[49m\u001b[43m)\u001b[49m\n\u001b[0;32m    302\u001b[0m \u001b[38;5;28;01melse\u001b[39;00m:\n\u001b[0;32m    303\u001b[0m     \u001b[38;5;28mself\u001b[39m\u001b[38;5;241m.\u001b[39m_sw_connection \u001b[38;5;241m=\u001b[39m clib\u001b[38;5;241m.\u001b[39mSW_CASConnection(\u001b[38;5;241m*\u001b[39mparams)\n",
      "File \u001b[1;32mc:\\Users\\avklis\\AppData\\Local\\Programs\\Python\\Python312\\Lib\\site-packages\\swat\\cas\\rest\\connection.py:359\u001b[0m, in \u001b[0;36mREST_CASConnection.__init__\u001b[1;34m(self, hostname, port, username, password, soptions, error)\u001b[0m\n\u001b[0;32m    356\u001b[0m     \u001b[38;5;28mself\u001b[39m\u001b[38;5;241m.\u001b[39m_set_next_connection()\n\u001b[0;32m    358\u001b[0m \u001b[38;5;28;01mexcept\u001b[39;00m \u001b[38;5;167;01mException\u001b[39;00m \u001b[38;5;28;01mas\u001b[39;00m exc:\n\u001b[1;32m--> 359\u001b[0m     \u001b[38;5;28;01mraise\u001b[39;00m SWATError(\u001b[38;5;28mstr\u001b[39m(exc))\n",
      "\u001b[1;31mSWATError\u001b[0m: Expecting value: line 1 column 1 (char 0)"
     ]
    }
   ],
   "source": [
    "import swat\n",
    "print(swat.__file__)\n",
    "directory = r\"local_path/to/cert.pem\" #replace with directory in which certificate is stored locally on computer\"\n",
    "print(directory)\n",
    "httpconn = swat.CAS(\"https://sasserver.sas.com/cas-shared-default-http\" #replace sasserver with SAS server\n",
    "                    , \n",
    "                    username=None, \n",
    "                    password=access_token, \n",
    "                    ssl_ca_list=directory+ #\"filename of certificate\"\n",
    "                    ,\n",
    "                    protocol=\"https\")\n",
    "httpconn\n",
    "\n",
    "#Binary (doesn't work)\n",
    "# import swat\n",
    "# binconn = swat.CAS(\"20.81.59.109\", protocol=\"cas\", username=None, password=access_token)"
   ]
  },
  {
   "cell_type": "code",
   "execution_count": null,
   "id": "f5f2ee42",
   "metadata": {
    "scrolled": false
   },
   "outputs": [],
   "source": [
    "import swat\n",
    "binconn = swat.CAS(\"20.81.59.109\", protocol=\"cas\", username=None, password=access_token, ssl_ca_list= \"path/to/cert.crt\" #replace with path to certificate\n",
    "                   )\n",
    "binconn"
   ]
  },
  {
   "cell_type": "markdown",
   "id": "63498600",
   "metadata": {},
   "source": [
    "# Viya Rest call from Python Notebook "
   ]
  },
  {
   "cell_type": "code",
   "execution_count": null,
   "id": "0d959250",
   "metadata": {},
   "outputs": [],
   "source": [
    "# Viya call uses hostname\n",
    "url = \"https://sasserver.sas.com/reports/reports\" #replace sasserver with SAS server\n",
    "\n",
    "payload={}\n",
    "headers = {\n",
    "  'Authorization': 'Bearer ' + access_token\n",
    "}\n",
    "\n",
    "response = requests.request(\"GET\", url, headers=headers, data=payload, verify=False).json()\n",
    "\n",
    "print(response)"
   ]
  },
  {
   "cell_type": "markdown",
   "id": "57b73929",
   "metadata": {},
   "source": [
    "# CAS REST call from Python Notebook"
   ]
  },
  {
   "cell_type": "code",
   "execution_count": null,
   "id": "92490500",
   "metadata": {},
   "outputs": [],
   "source": [
    "# CAS call uses ip addr\n",
    "url= \"https://20.237.68.50:443/cas-shared-default-http/cas/sessions\"\n",
    "\n",
    "\n",
    "payload={}\n",
    "headers = {\n",
    "  'Authorization': 'Bearer ' + access_token\n",
    "}\n",
    "\n",
    "response = requests.request(\"POST\", url, headers=headers, data=payload, verify=False).json()\n",
    "\n",
    "print(response)"
   ]
  },
  {
   "cell_type": "markdown",
   "id": "8fe63a91",
   "metadata": {},
   "source": [
    "### Calling Model Studio models"
   ]
  },
  {
   "cell_type": "code",
   "execution_count": 30,
   "id": "c5c30b3c",
   "metadata": {},
   "outputs": [
    {
     "name": "stdout",
     "output_type": "stream",
     "text": [
      "Collecting git+https://github.com/sassoftware/sas-scoring-translator-python.git\n",
      "  Cloning https://github.com/sassoftware/sas-scoring-translator-python.git to c:\\users\\avklis\\appdata\\local\\temp\\pip-req-build-cqdb3isx\n",
      "  Resolved https://github.com/sassoftware/sas-scoring-translator-python.git to commit 40358e64183e1fe40b74d514144f57711e3863b8\n",
      "  Installing build dependencies: started\n",
      "  Installing build dependencies: finished with status 'done'\n",
      "  Getting requirements to build wheel: started\n",
      "  Getting requirements to build wheel: finished with status 'done'\n",
      "  Preparing metadata (pyproject.toml): started\n",
      "  Preparing metadata (pyproject.toml): finished with status 'done'\n",
      "Building wheels for collected packages: pysct\n",
      "  Building wheel for pysct (pyproject.toml): started\n",
      "  Building wheel for pysct (pyproject.toml): finished with status 'done'\n",
      "  Created wheel for pysct: filename=pysct-0.0.3-py3-none-any.whl size=15574 sha256=48a564a6912fd850354220de76215ee5a4edd196098b4c89a05328f0b334bd42\n",
      "  Stored in directory: C:\\Users\\avklis\\AppData\\Local\\Temp\\pip-ephem-wheel-cache-xitlvjc0\\wheels\\b7\\4b\\3f\\7632d9b73c6428d4f924f2c9da810f705228ddae096fcb122c\n",
      "Successfully built pysct\n",
      "Installing collected packages: pysct\n",
      "Successfully installed pysct-0.0.3\n"
     ]
    },
    {
     "name": "stderr",
     "output_type": "stream",
     "text": [
      "  Running command git clone --filter=blob:none --quiet https://github.com/sassoftware/sas-scoring-translator-python.git 'C:\\Users\\avklis\\AppData\\Local\\Temp\\pip-req-build-cqdb3isx'\n",
      "\n",
      "[notice] A new release of pip is available: 24.0 -> 24.1.1\n",
      "[notice] To update, run: python.exe -m pip install --upgrade pip\n"
     ]
    }
   ],
   "source": [
    "# Since it's not on Pipy, you will to install from git using pip:\n",
    "!pip install git+https://github.com/sassoftware/sas-scoring-translator-python.git\n",
    "\n",
    "# loading the package\n",
    "import pysct"
   ]
  },
  {
   "cell_type": "code",
   "execution_count": 31,
   "id": "7a60f749",
   "metadata": {},
   "outputs": [
    {
     "name": "stdout",
     "output_type": "stream",
     "text": [
      "The file was successfully written to dmcas_scorecode.py\n"
     ]
    }
   ],
   "source": [
    "#Logistic Regression\n",
    "#FINAL_DATA_CLEANED is the name of the dataset in my SAS Drive used for these models\n",
    "\n",
    "out = pysct.DS_translate(\n",
    "                in_file = r\"path/to/score/code\",   #update with path to scoring code\n",
    "                out_caslib = \"casuser\",\n",
    "                out_castable = \"FINAL_DATA_CLEANED\",\n",
    "                in_caslib = \"public\",\n",
    "                in_castable = \"FINAL_DATA_CLEANED\"\n",
    ")"
   ]
  }
 ],
 "metadata": {
  "kernelspec": {
   "display_name": "Python 3 (ipykernel)",
   "language": "python",
   "name": "python3"
  },
  "language_info": {
   "codemirror_mode": {
    "name": "ipython",
    "version": 3
   },
   "file_extension": ".py",
   "mimetype": "text/x-python",
   "name": "python",
   "nbconvert_exporter": "python",
   "pygments_lexer": "ipython3",
   "version": "3.12.3"
  }
 },
 "nbformat": 4,
 "nbformat_minor": 5
}
